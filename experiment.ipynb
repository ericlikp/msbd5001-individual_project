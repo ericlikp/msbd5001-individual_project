{
 "cells": [
  {
   "cell_type": "code",
   "execution_count": 244,
   "metadata": {},
   "outputs": [],
   "source": [
    "import numpy as np\n",
    "import pandas as pd\n",
    "pd.set_option('display.max_colwidth', None)\n",
    "import seaborn as sns\n",
    "import matplotlib.pyplot as plt\n",
    "\n",
    "from sklearn.preprocessing import MinMaxScaler, StandardScaler\n",
    "from sklearn.model_selection import cross_val_score, train_test_split, KFold, GridSearchCV\n",
    "from sklearn.svm import SVC\n",
    "from sklearn.linear_model import LogisticRegression\n",
    "from sklearn.neighbors import KNeighborsClassifier\n",
    "from sklearn.ensemble import RandomForestClassifier\n",
    "from sklearn.discriminant_analysis import LinearDiscriminantAnalysis\n",
    "from sklearn.ensemble import StackingClassifier\n",
    "from sklearn.metrics import accuracy_score\n",
    "from xgboost import XGBClassifier\n",
    "\n",
    "import tensorflow as tf\n",
    "from keras.utils import np_utils\n",
    "from tensorflow.data import Dataset\n",
    "from tensorflow.keras.models import Sequential, Model\n",
    "from tensorflow.keras.layers import Dropout, Dense, Activation\n",
    "from tensorflow.keras.optimizers import Adam, SGD\n",
    "from tensorflow.keras.callbacks import ModelCheckpoint"
   ]
  },
  {
   "cell_type": "code",
   "execution_count": 245,
   "metadata": {},
   "outputs": [],
   "source": [
    "MAIN_PATH = 'input/msbd5001-spring-2022/'\n",
    "TRAIN_PATH = MAIN_PATH + 'train_normalized.csv'\n",
    "TEST_PATH = MAIN_PATH + 'test_normalized.csv'"
   ]
  },
  {
   "cell_type": "code",
   "execution_count": 246,
   "metadata": {},
   "outputs": [],
   "source": [
    "df_train = pd.read_csv(TRAIN_PATH, index_col=0)\n",
    "y_train = df_train[['label']].to_numpy().reshape(-1,)\n",
    "x_train = df_train.drop(columns=['label']).to_numpy()"
   ]
  },
  {
   "cell_type": "code",
   "execution_count": 247,
   "metadata": {},
   "outputs": [],
   "source": [
    "def grid_search(clf, X, y, param_grid, cv=5):\n",
    "    grid = GridSearchCV(clf, param_grid, cv=cv, scoring=\"accuracy\")\n",
    "    grid.fit(X, y)\n",
    "    return pd.DataFrame(grid.cv_results_)[['params', 'mean_test_score', 'std_test_score']].sort_values(by='mean_test_score', ascending=False)"
   ]
  },
  {
   "cell_type": "code",
   "execution_count": 72,
   "metadata": {},
   "outputs": [
    {
     "name": "stdout",
     "output_type": "stream",
     "text": [
      "0.8960784313725491 [0.83333333 0.94117647 1.         0.82352941 0.88235294]\n"
     ]
    }
   ],
   "source": [
    "lr = LogisticRegression()\n",
    "scores = cross_val_score(lr, x_train, y_train, cv=5)\n",
    "print(scores.mean(), scores)"
   ]
  },
  {
   "cell_type": "code",
   "execution_count": 104,
   "metadata": {},
   "outputs": [
    {
     "name": "stdout",
     "output_type": "stream",
     "text": [
      "0.8738562091503267 [0.72222222 0.88235294 0.94117647 0.82352941 1.        ]\n"
     ]
    }
   ],
   "source": [
    "svc = SVC(kernel='rbf', C=1)\n",
    "scores = cross_val_score(svc, x_train, y_train, cv=5)\n",
    "print(scores.mean(), scores)"
   ]
  },
  {
   "cell_type": "code",
   "execution_count": 98,
   "metadata": {},
   "outputs": [
    {
     "name": "stdout",
     "output_type": "stream",
     "text": [
      "[16:18:51] WARNING: /Users/runner/work/xgboost/xgboost/src/learner.cc:1115: Starting in XGBoost 1.3.0, the default evaluation metric used with the objective 'binary:logistic' was changed from 'error' to 'logloss'. Explicitly set eval_metric if you'd like to restore the old behavior.\n",
      "[16:18:51] WARNING: /Users/runner/work/xgboost/xgboost/src/learner.cc:1115: Starting in XGBoost 1.3.0, the default evaluation metric used with the objective 'binary:logistic' was changed from 'error' to 'logloss'. Explicitly set eval_metric if you'd like to restore the old behavior.\n",
      "[16:18:51] WARNING: /Users/runner/work/xgboost/xgboost/src/learner.cc:1115: Starting in XGBoost 1.3.0, the default evaluation metric used with the objective 'binary:logistic' was changed from 'error' to 'logloss'. Explicitly set eval_metric if you'd like to restore the old behavior.\n",
      "[16:18:51] WARNING: /Users/runner/work/xgboost/xgboost/src/learner.cc:1115: Starting in XGBoost 1.3.0, the default evaluation metric used with the objective 'binary:logistic' was changed from 'error' to 'logloss'. Explicitly set eval_metric if you'd like to restore the old behavior.\n",
      "[16:18:51] WARNING: /Users/runner/work/xgboost/xgboost/src/learner.cc:1115: Starting in XGBoost 1.3.0, the default evaluation metric used with the objective 'binary:logistic' was changed from 'error' to 'logloss'. Explicitly set eval_metric if you'd like to restore the old behavior.\n",
      "0.872549019607843 [0.83333333 0.94117647 0.88235294 0.88235294 0.82352941]\n"
     ]
    }
   ],
   "source": [
    "xgb = XGBClassifier(objective='binary:logistic', use_label_encoder=False)\n",
    "scores = cross_val_score(xgb, x_train, y_train, cv=5)\n",
    "print(scores.mean(), scores)"
   ]
  },
  {
   "cell_type": "code",
   "execution_count": 105,
   "metadata": {},
   "outputs": [
    {
     "name": "stdout",
     "output_type": "stream",
     "text": [
      "0.8483660130718954 [0.88888889 0.94117647 0.94117647 0.70588235 0.76470588]\n"
     ]
    }
   ],
   "source": [
    "lda = LinearDiscriminantAnalysis()\n",
    "scores = cross_val_score(lda, x_train, y_train, cv=5)\n",
    "print(scores.mean(), scores)"
   ]
  },
  {
   "cell_type": "code",
   "execution_count": 143,
   "metadata": {},
   "outputs": [
    {
     "name": "stdout",
     "output_type": "stream",
     "text": [
      "0.8836601307189543 [0.88888889 0.88235294 0.94117647 0.88235294 0.82352941]\n"
     ]
    }
   ],
   "source": [
    "rf = RandomForestClassifier(n_estimators=100, max_depth=6)\n",
    "scores = cross_val_score(rf, x_train, y_train, cv=5)\n",
    "print(scores.mean(), scores)"
   ]
  },
  {
   "cell_type": "code",
   "execution_count": 127,
   "metadata": {},
   "outputs": [
    {
     "name": "stdout",
     "output_type": "stream",
     "text": [
      "0.8614379084967319 [0.77777778 0.88235294 0.94117647 0.82352941 0.88235294]\n"
     ]
    }
   ],
   "source": [
    "knn = KNeighborsClassifier(n_neighbors=9)\n",
    "scores = cross_val_score(knn, x_train, y_train, cv=5)\n",
    "print(scores.mean(), scores)"
   ]
  },
  {
   "cell_type": "code",
   "execution_count": 248,
   "metadata": {},
   "outputs": [
    {
     "name": "stdout",
     "output_type": "stream",
     "text": [
      "0.8960784313725491 [0.83333333 0.88235294 1.         0.82352941 0.94117647]\n"
     ]
    }
   ],
   "source": [
    "estimators = [\n",
    "    ('lr', LogisticRegression()),\n",
    "    ('svc', SVC(kernel='rbf', C=1)),\n",
    "    ('lda', LinearDiscriminantAnalysis()),\n",
    "    ('rf', RandomForestClassifier(n_estimators=100, max_depth=6)),\n",
    "    ('knn', KNeighborsClassifier(n_neighbors=9))\n",
    "]\n",
    "\n",
    "clf = StackingClassifier(estimators=estimators, final_estimator=LogisticRegression())\n",
    "scores = cross_val_score(clf, x_train, y_train, cv=5)\n",
    "print(scores.mean(), scores)"
   ]
  },
  {
   "cell_type": "code",
   "execution_count": 249,
   "metadata": {},
   "outputs": [
    {
     "data": {
      "text/html": [
       "<div>\n",
       "<style scoped>\n",
       "    .dataframe tbody tr th:only-of-type {\n",
       "        vertical-align: middle;\n",
       "    }\n",
       "\n",
       "    .dataframe tbody tr th {\n",
       "        vertical-align: top;\n",
       "    }\n",
       "\n",
       "    .dataframe thead th {\n",
       "        text-align: right;\n",
       "    }\n",
       "</style>\n",
       "<table border=\"1\" class=\"dataframe\">\n",
       "  <thead>\n",
       "    <tr style=\"text-align: right;\">\n",
       "      <th></th>\n",
       "      <th>params</th>\n",
       "      <th>mean_test_score</th>\n",
       "      <th>std_test_score</th>\n",
       "    </tr>\n",
       "  </thead>\n",
       "  <tbody>\n",
       "    <tr>\n",
       "      <th>11</th>\n",
       "      <td>{'bootstrap': False, 'max_depth': 3, 'n_estimators': 100}</td>\n",
       "      <td>0.941667</td>\n",
       "      <td>0.058531</td>\n",
       "    </tr>\n",
       "    <tr>\n",
       "      <th>9</th>\n",
       "      <td>{'bootstrap': False, 'max_depth': 3, 'n_estimators': 50}</td>\n",
       "      <td>0.930556</td>\n",
       "      <td>0.056928</td>\n",
       "    </tr>\n",
       "    <tr>\n",
       "      <th>12</th>\n",
       "      <td>{'bootstrap': False, 'max_depth': 6, 'n_estimators': 50}</td>\n",
       "      <td>0.929167</td>\n",
       "      <td>0.080615</td>\n",
       "    </tr>\n",
       "    <tr>\n",
       "      <th>8</th>\n",
       "      <td>{'bootstrap': True, 'max_depth': 9, 'n_estimators': 100}</td>\n",
       "      <td>0.919444</td>\n",
       "      <td>0.072648</td>\n",
       "    </tr>\n",
       "    <tr>\n",
       "      <th>1</th>\n",
       "      <td>{'bootstrap': True, 'max_depth': 3, 'n_estimators': 75}</td>\n",
       "      <td>0.919444</td>\n",
       "      <td>0.052997</td>\n",
       "    </tr>\n",
       "  </tbody>\n",
       "</table>\n",
       "</div>"
      ],
      "text/plain": [
       "                                                       params  \\\n",
       "11  {'bootstrap': False, 'max_depth': 3, 'n_estimators': 100}   \n",
       "9    {'bootstrap': False, 'max_depth': 3, 'n_estimators': 50}   \n",
       "12   {'bootstrap': False, 'max_depth': 6, 'n_estimators': 50}   \n",
       "8    {'bootstrap': True, 'max_depth': 9, 'n_estimators': 100}   \n",
       "1     {'bootstrap': True, 'max_depth': 3, 'n_estimators': 75}   \n",
       "\n",
       "    mean_test_score  std_test_score  \n",
       "11         0.941667        0.058531  \n",
       "9          0.930556        0.056928  \n",
       "12         0.929167        0.080615  \n",
       "8          0.919444        0.072648  \n",
       "1          0.919444        0.052997  "
      ]
     },
     "execution_count": 249,
     "metadata": {},
     "output_type": "execute_result"
    }
   ],
   "source": [
    "rf_grid = {\n",
    "    'n_estimators': [50, 75, 100],\n",
    "    'max_depth': [3,6,9],\n",
    "    'bootstrap': [True, False]\n",
    "}\n",
    "result = grid_search(RandomForestClassifier(), x_train, y_train, rf_grid, 10)\n",
    "result.head()"
   ]
  },
  {
   "cell_type": "code",
   "execution_count": 182,
   "metadata": {},
   "outputs": [
    {
     "data": {
      "text/plain": [
       "{'bootstrap': False, 'max_depth': 3, 'n_estimators': 100}"
      ]
     },
     "execution_count": 182,
     "metadata": {},
     "output_type": "execute_result"
    }
   ],
   "source": [
    "# {'bootstrap': False, 'max_depth': 3, 'n_estimators': 100}"
   ]
  },
  {
   "cell_type": "code",
   "execution_count": 196,
   "metadata": {},
   "outputs": [
    {
     "name": "stdout",
     "output_type": "stream",
     "text": [
      "0.9424836601307189 [0.88888889 0.94117647 1.         0.94117647 0.94117647]\n"
     ]
    }
   ],
   "source": [
    "rf = RandomForestClassifier(n_estimators=100, max_depth=3, bootstrap=False)\n",
    "scores = cross_val_score(rf, x_train, y_train, cv=5)\n",
    "print(scores.mean(), scores)"
   ]
  },
  {
   "cell_type": "markdown",
   "metadata": {},
   "source": [
    "# Submission"
   ]
  },
  {
   "cell_type": "code",
   "execution_count": 263,
   "metadata": {},
   "outputs": [
    {
     "data": {
      "text/plain": [
       "1.0"
      ]
     },
     "execution_count": 263,
     "metadata": {},
     "output_type": "execute_result"
    }
   ],
   "source": [
    "x, x_val, y, y_val = train_test_split(x_train, y_train, test_size=0.2, shuffle=True)\n",
    "\n",
    "rf = RandomForestClassifier(n_estimators=50, max_depth=3, bootstrap=False)\n",
    "rf.fit(x_train, y_train)\n",
    "y_pred = rf.predict(x_val)\n",
    "accuracy_score(y_val, y_pred)"
   ]
  },
  {
   "cell_type": "code",
   "execution_count": 264,
   "metadata": {},
   "outputs": [],
   "source": [
    "df_test = pd.read_csv(TEST_PATH, index_col=0)\n",
    "x_test = df_test.to_numpy()\n",
    "submission_pred = rf.predict(x_test)\n",
    "df_test['label'] = submission_pred"
   ]
  },
  {
   "cell_type": "code",
   "execution_count": 265,
   "metadata": {},
   "outputs": [],
   "source": [
    "df_test[['label']].to_csv('submission/rf_n50_d3_bootFalse.csv')"
   ]
  },
  {
   "cell_type": "markdown",
   "metadata": {},
   "source": [
    "# Balanced dataset"
   ]
  },
  {
   "cell_type": "code",
   "execution_count": 218,
   "metadata": {},
   "outputs": [],
   "source": [
    "MAIN_PATH = 'input/msbd5001-spring-2022/'\n",
    "TRAIN_PATH = MAIN_PATH + 'train_normalized.csv'\n",
    "TEST_PATH = MAIN_PATH + 'test_normalized.csv'"
   ]
  },
  {
   "cell_type": "code",
   "execution_count": 219,
   "metadata": {},
   "outputs": [],
   "source": [
    "df_train = pd.read_csv(TRAIN_PATH, index_col=0)\n",
    "negative_mask = df_train['label'] == 0\n",
    "positive_mask = df_train['label'] == 1"
   ]
  },
  {
   "cell_type": "code",
   "execution_count": 224,
   "metadata": {},
   "outputs": [],
   "source": [
    "sample_size = 29\n",
    "df_train_sampled = pd.concat([\n",
    "        df_train[negative_mask].sample(sample_size),\n",
    "        df_train[positive_mask].sample(sample_size)\n",
    "    ])"
   ]
  },
  {
   "cell_type": "code",
   "execution_count": 229,
   "metadata": {},
   "outputs": [],
   "source": [
    "df_train_sampled = df_train_sampled.sample(frac=1).reset_index(drop=True)"
   ]
  },
  {
   "cell_type": "code",
   "execution_count": 232,
   "metadata": {},
   "outputs": [],
   "source": [
    "y_train_sampled = df_train_sampled[['label']].to_numpy().reshape(-1,)\n",
    "x_train_sampled = df_train_sampled.drop(columns=['label']).to_numpy()"
   ]
  },
  {
   "cell_type": "code",
   "execution_count": 235,
   "metadata": {},
   "outputs": [
    {
     "data": {
      "text/html": [
       "<div>\n",
       "<style scoped>\n",
       "    .dataframe tbody tr th:only-of-type {\n",
       "        vertical-align: middle;\n",
       "    }\n",
       "\n",
       "    .dataframe tbody tr th {\n",
       "        vertical-align: top;\n",
       "    }\n",
       "\n",
       "    .dataframe thead th {\n",
       "        text-align: right;\n",
       "    }\n",
       "</style>\n",
       "<table border=\"1\" class=\"dataframe\">\n",
       "  <thead>\n",
       "    <tr style=\"text-align: right;\">\n",
       "      <th></th>\n",
       "      <th>params</th>\n",
       "      <th>mean_test_score</th>\n",
       "      <th>std_test_score</th>\n",
       "    </tr>\n",
       "  </thead>\n",
       "  <tbody>\n",
       "    <tr>\n",
       "      <th>11</th>\n",
       "      <td>{'bootstrap': True, 'criterion': 'entropy', 'max_depth': 3, 'n_estimators': 150}</td>\n",
       "      <td>0.842424</td>\n",
       "      <td>0.070646</td>\n",
       "    </tr>\n",
       "    <tr>\n",
       "      <th>0</th>\n",
       "      <td>{'bootstrap': True, 'criterion': 'gini', 'max_depth': 3, 'n_estimators': 50}</td>\n",
       "      <td>0.825758</td>\n",
       "      <td>0.060226</td>\n",
       "    </tr>\n",
       "    <tr>\n",
       "      <th>9</th>\n",
       "      <td>{'bootstrap': True, 'criterion': 'entropy', 'max_depth': 3, 'n_estimators': 50}</td>\n",
       "      <td>0.825758</td>\n",
       "      <td>0.060226</td>\n",
       "    </tr>\n",
       "    <tr>\n",
       "      <th>19</th>\n",
       "      <td>{'bootstrap': False, 'criterion': 'gini', 'max_depth': 3, 'n_estimators': 100}</td>\n",
       "      <td>0.825758</td>\n",
       "      <td>0.060226</td>\n",
       "    </tr>\n",
       "    <tr>\n",
       "      <th>5</th>\n",
       "      <td>{'bootstrap': True, 'criterion': 'gini', 'max_depth': 6, 'n_estimators': 150}</td>\n",
       "      <td>0.825758</td>\n",
       "      <td>0.101187</td>\n",
       "    </tr>\n",
       "  </tbody>\n",
       "</table>\n",
       "</div>"
      ],
      "text/plain": [
       "                                                                              params  \\\n",
       "11  {'bootstrap': True, 'criterion': 'entropy', 'max_depth': 3, 'n_estimators': 150}   \n",
       "0       {'bootstrap': True, 'criterion': 'gini', 'max_depth': 3, 'n_estimators': 50}   \n",
       "9    {'bootstrap': True, 'criterion': 'entropy', 'max_depth': 3, 'n_estimators': 50}   \n",
       "19    {'bootstrap': False, 'criterion': 'gini', 'max_depth': 3, 'n_estimators': 100}   \n",
       "5      {'bootstrap': True, 'criterion': 'gini', 'max_depth': 6, 'n_estimators': 150}   \n",
       "\n",
       "    mean_test_score  std_test_score  \n",
       "11         0.842424        0.070646  \n",
       "0          0.825758        0.060226  \n",
       "9          0.825758        0.060226  \n",
       "19         0.825758        0.060226  \n",
       "5          0.825758        0.101187  "
      ]
     },
     "execution_count": 235,
     "metadata": {},
     "output_type": "execute_result"
    }
   ],
   "source": [
    "rf_grid = {\n",
    "    'n_estimators': [50, 100, 150],\n",
    "    'max_depth': [3,6,9],\n",
    "    'criterion': ['gini', 'entropy'],\n",
    "    'bootstrap': [True, False]\n",
    "}\n",
    "result = grid_search(RandomForestClassifier(), x_train_sampled, y_train_sampled, rf_grid)\n",
    "result.head()"
   ]
  },
  {
   "cell_type": "code",
   "execution_count": null,
   "metadata": {},
   "outputs": [],
   "source": []
  }
 ],
 "metadata": {
  "kernelspec": {
   "display_name": "Python 3",
   "language": "python",
   "name": "python3"
  },
  "language_info": {
   "codemirror_mode": {
    "name": "ipython",
    "version": 3
   },
   "file_extension": ".py",
   "mimetype": "text/x-python",
   "name": "python",
   "nbconvert_exporter": "python",
   "pygments_lexer": "ipython3",
   "version": "3.7.9"
  }
 },
 "nbformat": 4,
 "nbformat_minor": 4
}
